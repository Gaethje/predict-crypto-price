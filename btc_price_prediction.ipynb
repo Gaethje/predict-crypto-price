{
  "nbformat": 4,
  "nbformat_minor": 0,
  "metadata": {
    "colab": {
      "name": "btc price prediction.ipynb",
      "provenance": [],
      "authorship_tag": "ABX9TyMQGU6kEOO6qPLAt3vR/woq",
      "include_colab_link": true
    },
    "kernelspec": {
      "name": "python3",
      "display_name": "Python 3"
    },
    "language_info": {
      "name": "python"
    }
  },
  "cells": [
    {
      "cell_type": "markdown",
      "metadata": {
        "id": "view-in-github",
        "colab_type": "text"
      },
      "source": [
        "<a href=\"https://colab.research.google.com/github/Gaethje/predict-crypto-price/blob/main/btc_price_prediction.ipynb\" target=\"_parent\"><img src=\"https://colab.research.google.com/assets/colab-badge.svg\" alt=\"Open In Colab\"/></a>"
      ]
    },
    {
      "cell_type": "code",
      "metadata": {
        "id": "k5Cs75MVCx4z"
      },
      "source": [
        "import numpy as np\n",
        "import pandas as pd\n",
        "import matplotlib.pyplot as plt\n",
        "import pandas_datareader as web\n",
        "import datetime as dt\n",
        "import seaborn as sns\n",
        "from sklearn.preprocessing import MinMaxScaler\n",
        "from tensorflow.keras.layers import Dense,Dropout,LSTM\n",
        "from tensorflow.keras.models import Sequential"
      ],
      "execution_count": 44,
      "outputs": []
    },
    {
      "cell_type": "code",
      "metadata": {
        "id": "V5vnqvgrHbal"
      },
      "source": [
        "#data collected from two sources- yahoo finance and kaggle.\n",
        "#kaggle data source provides minute data the time period of Jan 2012 to December March 2021, with minute to minute updates of OHLC (Open, High, Low, Close)\n",
        "#yahoo finance eprovides daily data start date sept 17, 2014; end date 23 oct 2021 "
      ],
      "execution_count": 45,
      "outputs": []
    },
    {
      "cell_type": "code",
      "metadata": {
        "id": "PAqgXejrKrSx"
      },
      "source": [
        "# Preparing data"
      ],
      "execution_count": 46,
      "outputs": []
    },
    {
      "cell_type": "code",
      "metadata": {
        "id": "GycDeUy9JfMv"
      },
      "source": [
        "url = 'https://raw.githubusercontent.com/Gaethje/predict-crypto-price/main/BTC-USD%20(1).csv'\n",
        "df1 = pd.read_csv(url)"
      ],
      "execution_count": 78,
      "outputs": []
    },
    {
      "cell_type": "code",
      "metadata": {
        "colab": {
          "base_uri": "https://localhost:8080/",
          "height": 204
        },
        "id": "33U4kn7NyJQs",
        "outputId": "766f0a60-81bf-48ba-fad3-6376689a16b8"
      },
      "source": [
        "df1.head()"
      ],
      "execution_count": 79,
      "outputs": [
        {
          "output_type": "execute_result",
          "data": {
            "text/html": [
              "<div>\n",
              "<style scoped>\n",
              "    .dataframe tbody tr th:only-of-type {\n",
              "        vertical-align: middle;\n",
              "    }\n",
              "\n",
              "    .dataframe tbody tr th {\n",
              "        vertical-align: top;\n",
              "    }\n",
              "\n",
              "    .dataframe thead th {\n",
              "        text-align: right;\n",
              "    }\n",
              "</style>\n",
              "<table border=\"1\" class=\"dataframe\">\n",
              "  <thead>\n",
              "    <tr style=\"text-align: right;\">\n",
              "      <th></th>\n",
              "      <th>Date</th>\n",
              "      <th>Open</th>\n",
              "      <th>High</th>\n",
              "      <th>Low</th>\n",
              "      <th>Close</th>\n",
              "      <th>Adj Close</th>\n",
              "      <th>Volume</th>\n",
              "    </tr>\n",
              "  </thead>\n",
              "  <tbody>\n",
              "    <tr>\n",
              "      <th>0</th>\n",
              "      <td>2016-01-01</td>\n",
              "      <td>$430.72</td>\n",
              "      <td>$436.25</td>\n",
              "      <td>$427.52</td>\n",
              "      <td>$434.33</td>\n",
              "      <td>$434.33</td>\n",
              "      <td>$36,278,900.00</td>\n",
              "    </tr>\n",
              "    <tr>\n",
              "      <th>1</th>\n",
              "      <td>2016-01-02</td>\n",
              "      <td>$434.62</td>\n",
              "      <td>$436.06</td>\n",
              "      <td>$431.87</td>\n",
              "      <td>$433.44</td>\n",
              "      <td>$433.44</td>\n",
              "      <td>$30,096,600.00</td>\n",
              "    </tr>\n",
              "    <tr>\n",
              "      <th>2</th>\n",
              "      <td>2016-01-03</td>\n",
              "      <td>$433.58</td>\n",
              "      <td>$433.74</td>\n",
              "      <td>$424.71</td>\n",
              "      <td>$430.01</td>\n",
              "      <td>$430.01</td>\n",
              "      <td>$39,633,800.00</td>\n",
              "    </tr>\n",
              "    <tr>\n",
              "      <th>3</th>\n",
              "      <td>2016-01-04</td>\n",
              "      <td>$430.06</td>\n",
              "      <td>$434.52</td>\n",
              "      <td>$429.08</td>\n",
              "      <td>$433.09</td>\n",
              "      <td>$433.09</td>\n",
              "      <td>$38,477,500.00</td>\n",
              "    </tr>\n",
              "    <tr>\n",
              "      <th>4</th>\n",
              "      <td>2016-01-05</td>\n",
              "      <td>$433.07</td>\n",
              "      <td>$434.18</td>\n",
              "      <td>$429.68</td>\n",
              "      <td>$431.96</td>\n",
              "      <td>$431.96</td>\n",
              "      <td>$34,522,600.00</td>\n",
              "    </tr>\n",
              "  </tbody>\n",
              "</table>\n",
              "</div>"
            ],
            "text/plain": [
              "         Date    Open    High     Low   Close  Adj Close         Volume\n",
              "0  2016-01-01 $430.72 $436.25 $427.52 $434.33    $434.33 $36,278,900.00\n",
              "1  2016-01-02 $434.62 $436.06 $431.87 $433.44    $433.44 $30,096,600.00\n",
              "2  2016-01-03 $433.58 $433.74 $424.71 $430.01    $430.01 $39,633,800.00\n",
              "3  2016-01-04 $430.06 $434.52 $429.08 $433.09    $433.09 $38,477,500.00\n",
              "4  2016-01-05 $433.07 $434.18 $429.68 $431.96    $431.96 $34,522,600.00"
            ]
          },
          "metadata": {},
          "execution_count": 79
        }
      ]
    },
    {
      "cell_type": "code",
      "metadata": {
        "colab": {
          "base_uri": "https://localhost:8080/",
          "height": 297
        },
        "id": "rjnbWscKzUgs",
        "outputId": "369ab0fb-0853-4dca-dca0-fef91807c6eb"
      },
      "source": [
        "df1.describe()"
      ],
      "execution_count": 80,
      "outputs": [
        {
          "output_type": "execute_result",
          "data": {
            "text/html": [
              "<div>\n",
              "<style scoped>\n",
              "    .dataframe tbody tr th:only-of-type {\n",
              "        vertical-align: middle;\n",
              "    }\n",
              "\n",
              "    .dataframe tbody tr th {\n",
              "        vertical-align: top;\n",
              "    }\n",
              "\n",
              "    .dataframe thead th {\n",
              "        text-align: right;\n",
              "    }\n",
              "</style>\n",
              "<table border=\"1\" class=\"dataframe\">\n",
              "  <thead>\n",
              "    <tr style=\"text-align: right;\">\n",
              "      <th></th>\n",
              "      <th>Open</th>\n",
              "      <th>High</th>\n",
              "      <th>Low</th>\n",
              "      <th>Close</th>\n",
              "      <th>Adj Close</th>\n",
              "      <th>Volume</th>\n",
              "    </tr>\n",
              "  </thead>\n",
              "  <tbody>\n",
              "    <tr>\n",
              "      <th>count</th>\n",
              "      <td>$2,119.00</td>\n",
              "      <td>$2,119.00</td>\n",
              "      <td>$2,119.00</td>\n",
              "      <td>$2,119.00</td>\n",
              "      <td>$2,119.00</td>\n",
              "      <td>$2,119.00</td>\n",
              "    </tr>\n",
              "    <tr>\n",
              "      <th>mean</th>\n",
              "      <td>$11,600.21</td>\n",
              "      <td>$11,930.20</td>\n",
              "      <td>$11,247.56</td>\n",
              "      <td>$11,627.52</td>\n",
              "      <td>$11,627.52</td>\n",
              "      <td>$16,851,868,544.84</td>\n",
              "    </tr>\n",
              "    <tr>\n",
              "      <th>std</th>\n",
              "      <td>$14,745.73</td>\n",
              "      <td>$15,190.15</td>\n",
              "      <td>$14,257.82</td>\n",
              "      <td>$14,780.81</td>\n",
              "      <td>$14,780.81</td>\n",
              "      <td>$20,803,611,692.76</td>\n",
              "    </tr>\n",
              "    <tr>\n",
              "      <th>min</th>\n",
              "      <td>$365.07</td>\n",
              "      <td>$374.95</td>\n",
              "      <td>$354.91</td>\n",
              "      <td>$364.33</td>\n",
              "      <td>$364.33</td>\n",
              "      <td>$28,514,000.00</td>\n",
              "    </tr>\n",
              "    <tr>\n",
              "      <th>25%</th>\n",
              "      <td>$2,457.91</td>\n",
              "      <td>$2,538.54</td>\n",
              "      <td>$2,336.91</td>\n",
              "      <td>$2,471.52</td>\n",
              "      <td>$2,471.52</td>\n",
              "      <td>$1,054,235,008.00</td>\n",
              "    </tr>\n",
              "    <tr>\n",
              "      <th>50%</th>\n",
              "      <td>$7,203.51</td>\n",
              "      <td>$7,363.53</td>\n",
              "      <td>$7,031.28</td>\n",
              "      <td>$7,207.76</td>\n",
              "      <td>$7,207.76</td>\n",
              "      <td>$7,764,460,032.00</td>\n",
              "    </tr>\n",
              "    <tr>\n",
              "      <th>75%</th>\n",
              "      <td>$10,750.21</td>\n",
              "      <td>$11,002.92</td>\n",
              "      <td>$10,437.51</td>\n",
              "      <td>$10,758.83</td>\n",
              "      <td>$10,758.83</td>\n",
              "      <td>$26,461,817,774.00</td>\n",
              "    </tr>\n",
              "    <tr>\n",
              "      <th>max</th>\n",
              "      <td>$66,002.23</td>\n",
              "      <td>$66,930.39</td>\n",
              "      <td>$63,610.68</td>\n",
              "      <td>$65,992.84</td>\n",
              "      <td>$65,992.84</td>\n",
              "      <td>$350,967,941,479.00</td>\n",
              "    </tr>\n",
              "  </tbody>\n",
              "</table>\n",
              "</div>"
            ],
            "text/plain": [
              "            Open       High  ...  Adj Close              Volume\n",
              "count  $2,119.00  $2,119.00  ...  $2,119.00           $2,119.00\n",
              "mean  $11,600.21 $11,930.20  ... $11,627.52  $16,851,868,544.84\n",
              "std   $14,745.73 $15,190.15  ... $14,780.81  $20,803,611,692.76\n",
              "min      $365.07    $374.95  ...    $364.33      $28,514,000.00\n",
              "25%    $2,457.91  $2,538.54  ...  $2,471.52   $1,054,235,008.00\n",
              "50%    $7,203.51  $7,363.53  ...  $7,207.76   $7,764,460,032.00\n",
              "75%   $10,750.21 $11,002.92  ... $10,758.83  $26,461,817,774.00\n",
              "max   $66,002.23 $66,930.39  ... $65,992.84 $350,967,941,479.00\n",
              "\n",
              "[8 rows x 6 columns]"
            ]
          },
          "metadata": {},
          "execution_count": 80
        }
      ]
    },
    {
      "cell_type": "code",
      "metadata": {
        "colab": {
          "base_uri": "https://localhost:8080/",
          "height": 293
        },
        "id": "ouDWn0_-2rFf",
        "outputId": "b6f29838-1e36-4f99-a374-d4ebed534f36"
      },
      "source": [
        "df1['Volume'].plot()"
      ],
      "execution_count": 81,
      "outputs": [
        {
          "output_type": "execute_result",
          "data": {
            "text/plain": [
              "<matplotlib.axes._subplots.AxesSubplot at 0x7fb6ec4d1fd0>"
            ]
          },
          "metadata": {},
          "execution_count": 81
        },
        {
          "output_type": "display_data",
          "data": {
            "image/png": "[encoded data removed]",
            "text/plain": [
              "<Figure size 432x288 with 1 Axes>"
            ]
          },
          "metadata": {
            "needs_background": "light"
          }
        }
      ]
    },
    {
      "cell_type": "code",
      "metadata": {
        "colab": {
          "base_uri": "https://localhost:8080/",
          "height": 766
        },
        "id": "a7TU4PFO3u7L",
        "outputId": "0bebbc78-d477-49d6-c7d1-569b174a207e"
      },
      "source": [
        "df1.plot(subplots=True, figsize=(10,12))"
      ],
      "execution_count": 82,
      "outputs": [
        {
          "output_type": "execute_result",
          "data": {
            "text/plain": [
              "array([<matplotlib.axes._subplots.AxesSubplot object at 0x7fb6ec41fe10>,\n",
              "       <matplotlib.axes._subplots.AxesSubplot object at 0x7fb6ec42eb90>,\n",
              "       <matplotlib.axes._subplots.AxesSubplot object at 0x7fb6ec3f9310>,\n",
              "       <matplotlib.axes._subplots.AxesSubplot object at 0x7fb6ec3b0710>,\n",
              "       <matplotlib.axes._subplots.AxesSubplot object at 0x7fb6ec365b10>,\n",
              "       <matplotlib.axes._subplots.AxesSubplot object at 0x7fb6ec31bf10>],\n",
              "      dtype=object)"
            ]
          },
          "metadata": {},
          "execution_count": 82
        },
        {
          "output_type": "display_data",
          "data": {
            "image/png": "[encoded data removed]",
            "text/plain": [
              "<Figure size 720x864 with 6 Axes>"
            ]
          },
          "metadata": {
            "needs_background": "light"
          }
        }
      ]
    },
    {
      "cell_type": "code",
      "metadata": {
        "colab": {
          "base_uri": "https://localhost:8080/"
        },
        "id": "Xu7wfKpi47nK",
        "outputId": "1a8d6557-3147-475e-fcb8-b387932a08c0"
      },
      "source": [
        "scaler = MinMaxScaler(feature_range=(0,1))\n",
        "scaled_data = scaler.fit_transform(df1['Close'].values.reshape(-1,1))\n",
        "scaled_data"
      ],
      "execution_count": 83,
      "outputs": [
        {
          "output_type": "execute_result",
          "data": {
            "text/plain": [
              "array([[0.00106666],\n",
              "       [0.001053  ],\n",
              "       [0.00100078],\n",
              "       ...,\n",
              "       [0.91923372],\n",
              "       [       nan],\n",
              "       [0.92637393]])"
            ]
          },
          "metadata": {},
          "execution_count": 83
        }
      ]
    },
    {
      "cell_type": "code",
      "metadata": {
        "id": "b1xRSrKb7Tz8"
      },
      "source": [
        "#train 60 days and predict 61th day\n",
        "prediction_days = 60\n",
        "x_train,y_train = [],[]\n"
      ],
      "execution_count": 84,
      "outputs": []
    },
    {
      "cell_type": "code",
      "metadata": {
        "id": "r7bvM7et8ieO"
      },
      "source": [
        "for x in range(prediction_days, len(scaled_data)):\n",
        "  x_train.append(scaled_data[x-prediction_days:x, 0])\n",
        "  y_train.append(scaled_data[x, 0])"
      ],
      "execution_count": 85,
      "outputs": []
    },
    {
      "cell_type": "code",
      "metadata": {
        "id": "gfrYoOJAMQB5"
      },
      "source": [
        "x_train, y_train = np.array(x_train), np.array(y_train)\n",
        "x_train = np.reshape(x_train, (x_train.shape[0],x_train.shape[1],1))\n"
      ],
      "execution_count": 86,
      "outputs": []
    },
    {
      "cell_type": "code",
      "metadata": {
        "id": "zflxF_lLMEIB"
      },
      "source": [
        " # create neural network"
      ],
      "execution_count": 87,
      "outputs": []
    },
    {
      "cell_type": "code",
      "metadata": {
        "colab": {
          "base_uri": "https://localhost:8080/"
        },
        "id": "DciHm7t9MHHy",
        "outputId": "8a743622-c220-4364-92a0-03e9e82ee77d"
      },
      "source": [
        " model = Sequential()\n",
        " model.add(LSTM(units=50, return_sequences=True, input_shape = (x_train.shape[1], 1)))\n",
        " model.add(Dropout(0.2))\n",
        " model.add(LSTM(units=50, return_sequences=True))\n",
        " model.add(Dropout(0.2))\n",
        " model.add(LSTM(units=50))\n",
        " model.add(Dense(units=1))\n",
        "\n",
        " model.compile(optimizer='adam', loss='mean_squared_error')\n",
        " model.fit(x_train,y_train, epochs = 25, batch_size = 32)\n",
        "  "
      ],
      "execution_count": 88,
      "outputs": [
        {
          "output_type": "stream",
          "name": "stdout",
          "text": [
            "Epoch 1/25\n",
            "65/65 [==============================] - 11s 92ms/step - loss: nan\n",
            "Epoch 2/25\n",
            "65/65 [==============================] - 6s 95ms/step - loss: nan\n",
            "Epoch 3/25\n",
            "65/65 [==============================] - 6s 94ms/step - loss: nan\n",
            "Epoch 4/25\n",
            "65/65 [==============================] - 6s 92ms/step - loss: nan\n",
            "Epoch 5/25\n",
            "65/65 [==============================] - 6s 93ms/step - loss: nan\n",
            "Epoch 6/25\n",
            "65/65 [==============================] - 6s 94ms/step - loss: nan\n",
            "Epoch 7/25\n",
            "65/65 [==============================] - 6s 93ms/step - loss: nan\n",
            "Epoch 8/25\n",
            "65/65 [==============================] - 6s 93ms/step - loss: nan\n",
            "Epoch 9/25\n",
            "65/65 [==============================] - 6s 92ms/step - loss: nan\n",
            "Epoch 10/25\n",
            "65/65 [==============================] - 6s 92ms/step - loss: nan\n",
            "Epoch 11/25\n",
            "65/65 [==============================] - 6s 93ms/step - loss: nan\n",
            "Epoch 12/25\n",
            "65/65 [==============================] - 6s 92ms/step - loss: nan\n",
            "Epoch 13/25\n",
            "65/65 [==============================] - 6s 93ms/step - loss: nan\n",
            "Epoch 14/25\n",
            "65/65 [==============================] - 6s 92ms/step - loss: nan\n",
            "Epoch 15/25\n",
            "65/65 [==============================] - 6s 95ms/step - loss: nan\n",
            "Epoch 16/25\n",
            "65/65 [==============================] - 6s 93ms/step - loss: nan\n",
            "Epoch 17/25\n",
            "65/65 [==============================] - 6s 93ms/step - loss: nan\n",
            "Epoch 18/25\n",
            "65/65 [==============================] - 6s 94ms/step - loss: nan\n",
            "Epoch 19/25\n",
            "65/65 [==============================] - 6s 93ms/step - loss: nan\n",
            "Epoch 20/25\n",
            "65/65 [==============================] - 6s 94ms/step - loss: nan\n",
            "Epoch 21/25\n",
            "65/65 [==============================] - 6s 92ms/step - loss: nan\n",
            "Epoch 22/25\n",
            "65/65 [==============================] - 6s 92ms/step - loss: nan\n",
            "Epoch 23/25\n",
            "65/65 [==============================] - 6s 93ms/step - loss: nan\n",
            "Epoch 24/25\n",
            "65/65 [==============================] - 6s 94ms/step - loss: nan\n",
            "Epoch 25/25\n",
            "65/65 [==============================] - 6s 93ms/step - loss: nan\n"
          ]
        },
        {
          "output_type": "execute_result",
          "data": {
            "text/plain": [
              "<keras.callbacks.History at 0x7fb6eb59fe50>"
            ]
          },
          "metadata": {},
          "execution_count": 88
        }
      ]
    },
    {
      "cell_type": "code",
      "metadata": {
        "colab": {
          "base_uri": "https://localhost:8080/"
        },
        "id": "LAA4BIhHPUWb",
        "outputId": "038d27b3-6682-4719-d7c6-903415b608ad"
      },
      "source": [
        "# testing the model\n",
        "model.summary()\n"
      ],
      "execution_count": 89,
      "outputs": [
        {
          "output_type": "stream",
          "name": "stdout",
          "text": [
            "Model: \"sequential_2\"\n",
            "_________________________________________________________________\n",
            "Layer (type)                 Output Shape              Param #   \n",
            "=================================================================\n",
            "lstm_6 (LSTM)                (None, 60, 50)            10400     \n",
            "_________________________________________________________________\n",
            "dropout_4 (Dropout)          (None, 60, 50)            0         \n",
            "_________________________________________________________________\n",
            "lstm_7 (LSTM)                (None, 60, 50)            20200     \n",
            "_________________________________________________________________\n",
            "dropout_5 (Dropout)          (None, 60, 50)            0         \n",
            "_________________________________________________________________\n",
            "lstm_8 (LSTM)                (None, 50)                20200     \n",
            "_________________________________________________________________\n",
            "dense_2 (Dense)              (None, 1)                 51        \n",
            "=================================================================\n",
            "Total params: 50,851\n",
            "Trainable params: 50,851\n",
            "Non-trainable params: 0\n",
            "_________________________________________________________________\n"
          ]
        }
      ]
    },
    {
      "cell_type": "code",
      "metadata": {
        "colab": {
          "base_uri": "https://localhost:8080/",
          "height": 419
        },
        "id": "RGaD1vzIQgkQ",
        "outputId": "fcf5d10e-6a01-4177-f7b0-b30449f62db2"
      },
      "source": [
        "df1"
      ],
      "execution_count": 90,
      "outputs": [
        {
          "output_type": "execute_result",
          "data": {
            "text/html": [
              "<div>\n",
              "<style scoped>\n",
              "    .dataframe tbody tr th:only-of-type {\n",
              "        vertical-align: middle;\n",
              "    }\n",
              "\n",
              "    .dataframe tbody tr th {\n",
              "        vertical-align: top;\n",
              "    }\n",
              "\n",
              "    .dataframe thead th {\n",
              "        text-align: right;\n",
              "    }\n",
              "</style>\n",
              "<table border=\"1\" class=\"dataframe\">\n",
              "  <thead>\n",
              "    <tr style=\"text-align: right;\">\n",
              "      <th></th>\n",
              "      <th>Date</th>\n",
              "      <th>Open</th>\n",
              "      <th>High</th>\n",
              "      <th>Low</th>\n",
              "      <th>Close</th>\n",
              "      <th>Adj Close</th>\n",
              "      <th>Volume</th>\n",
              "    </tr>\n",
              "  </thead>\n",
              "  <tbody>\n",
              "    <tr>\n",
              "      <th>0</th>\n",
              "      <td>2016-01-01</td>\n",
              "      <td>$430.72</td>\n",
              "      <td>$436.25</td>\n",
              "      <td>$427.52</td>\n",
              "      <td>$434.33</td>\n",
              "      <td>$434.33</td>\n",
              "      <td>$36,278,900.00</td>\n",
              "    </tr>\n",
              "    <tr>\n",
              "      <th>1</th>\n",
              "      <td>2016-01-02</td>\n",
              "      <td>$434.62</td>\n",
              "      <td>$436.06</td>\n",
              "      <td>$431.87</td>\n",
              "      <td>$433.44</td>\n",
              "      <td>$433.44</td>\n",
              "      <td>$30,096,600.00</td>\n",
              "    </tr>\n",
              "    <tr>\n",
              "      <th>2</th>\n",
              "      <td>2016-01-03</td>\n",
              "      <td>$433.58</td>\n",
              "      <td>$433.74</td>\n",
              "      <td>$424.71</td>\n",
              "      <td>$430.01</td>\n",
              "      <td>$430.01</td>\n",
              "      <td>$39,633,800.00</td>\n",
              "    </tr>\n",
              "    <tr>\n",
              "      <th>3</th>\n",
              "      <td>2016-01-04</td>\n",
              "      <td>$430.06</td>\n",
              "      <td>$434.52</td>\n",
              "      <td>$429.08</td>\n",
              "      <td>$433.09</td>\n",
              "      <td>$433.09</td>\n",
              "      <td>$38,477,500.00</td>\n",
              "    </tr>\n",
              "    <tr>\n",
              "      <th>4</th>\n",
              "      <td>2016-01-05</td>\n",
              "      <td>$433.07</td>\n",
              "      <td>$434.18</td>\n",
              "      <td>$429.68</td>\n",
              "      <td>$431.96</td>\n",
              "      <td>$431.96</td>\n",
              "      <td>$34,522,600.00</td>\n",
              "    </tr>\n",
              "    <tr>\n",
              "      <th>...</th>\n",
              "      <td>...</td>\n",
              "      <td>...</td>\n",
              "      <td>...</td>\n",
              "      <td>...</td>\n",
              "      <td>...</td>\n",
              "      <td>...</td>\n",
              "      <td>...</td>\n",
              "    </tr>\n",
              "    <tr>\n",
              "      <th>2119</th>\n",
              "      <td>2021-10-20</td>\n",
              "      <td>$64,284.59</td>\n",
              "      <td>$66,930.39</td>\n",
              "      <td>$63,610.68</td>\n",
              "      <td>$65,992.84</td>\n",
              "      <td>$65,992.84</td>\n",
              "      <td>$40,788,955,582.00</td>\n",
              "    </tr>\n",
              "    <tr>\n",
              "      <th>2120</th>\n",
              "      <td>2021-10-21</td>\n",
              "      <td>$66,002.23</td>\n",
              "      <td>$66,600.55</td>\n",
              "      <td>$62,117.41</td>\n",
              "      <td>$62,210.17</td>\n",
              "      <td>$62,210.17</td>\n",
              "      <td>$45,908,121,370.00</td>\n",
              "    </tr>\n",
              "    <tr>\n",
              "      <th>2121</th>\n",
              "      <td>2021-10-22</td>\n",
              "      <td>$62,237.89</td>\n",
              "      <td>$63,715.02</td>\n",
              "      <td>$60,122.80</td>\n",
              "      <td>$60,692.27</td>\n",
              "      <td>$60,692.27</td>\n",
              "      <td>$38,434,082,775.00</td>\n",
              "    </tr>\n",
              "    <tr>\n",
              "      <th>2122</th>\n",
              "      <td>2021-10-23</td>\n",
              "      <td>$nan</td>\n",
              "      <td>$nan</td>\n",
              "      <td>$nan</td>\n",
              "      <td>$nan</td>\n",
              "      <td>$nan</td>\n",
              "      <td>$nan</td>\n",
              "    </tr>\n",
              "    <tr>\n",
              "      <th>2123</th>\n",
              "      <td>2021-10-24</td>\n",
              "      <td>$61,430.90</td>\n",
              "      <td>$61,468.63</td>\n",
              "      <td>$61,008.84</td>\n",
              "      <td>$61,160.87</td>\n",
              "      <td>$61,160.87</td>\n",
              "      <td>$25,418,776,576.00</td>\n",
              "    </tr>\n",
              "  </tbody>\n",
              "</table>\n",
              "<p>2124 rows × 7 columns</p>\n",
              "</div>"
            ],
            "text/plain": [
              "            Date       Open       High  ...      Close  Adj Close             Volume\n",
              "0     2016-01-01    $430.72    $436.25  ...    $434.33    $434.33     $36,278,900.00\n",
              "1     2016-01-02    $434.62    $436.06  ...    $433.44    $433.44     $30,096,600.00\n",
              "2     2016-01-03    $433.58    $433.74  ...    $430.01    $430.01     $39,633,800.00\n",
              "3     2016-01-04    $430.06    $434.52  ...    $433.09    $433.09     $38,477,500.00\n",
              "4     2016-01-05    $433.07    $434.18  ...    $431.96    $431.96     $34,522,600.00\n",
              "...          ...        ...        ...  ...        ...        ...                ...\n",
              "2119  2021-10-20 $64,284.59 $66,930.39  ... $65,992.84 $65,992.84 $40,788,955,582.00\n",
              "2120  2021-10-21 $66,002.23 $66,600.55  ... $62,210.17 $62,210.17 $45,908,121,370.00\n",
              "2121  2021-10-22 $62,237.89 $63,715.02  ... $60,692.27 $60,692.27 $38,434,082,775.00\n",
              "2122  2021-10-23       $nan       $nan  ...       $nan       $nan               $nan\n",
              "2123  2021-10-24 $61,430.90 $61,468.63  ... $61,160.87 $61,160.87 $25,418,776,576.00\n",
              "\n",
              "[2124 rows x 7 columns]"
            ]
          },
          "metadata": {},
          "execution_count": 90
        }
      ]
    },
    {
      "cell_type": "code",
      "metadata": {
        "colab": {
          "base_uri": "https://localhost:8080/",
          "height": 204
        },
        "id": "qsHAuiCvWDrB",
        "outputId": "2572166b-2c11-4166-ea70-d5308ba44bbc"
      },
      "source": [
        "df2 = df1[-400:]\n",
        "df2.head()"
      ],
      "execution_count": 91,
      "outputs": [
        {
          "output_type": "execute_result",
          "data": {
            "text/html": [
              "<div>\n",
              "<style scoped>\n",
              "    .dataframe tbody tr th:only-of-type {\n",
              "        vertical-align: middle;\n",
              "    }\n",
              "\n",
              "    .dataframe tbody tr th {\n",
              "        vertical-align: top;\n",
              "    }\n",
              "\n",
              "    .dataframe thead th {\n",
              "        text-align: right;\n",
              "    }\n",
              "</style>\n",
              "<table border=\"1\" class=\"dataframe\">\n",
              "  <thead>\n",
              "    <tr style=\"text-align: right;\">\n",
              "      <th></th>\n",
              "      <th>Date</th>\n",
              "      <th>Open</th>\n",
              "      <th>High</th>\n",
              "      <th>Low</th>\n",
              "      <th>Close</th>\n",
              "      <th>Adj Close</th>\n",
              "      <th>Volume</th>\n",
              "    </tr>\n",
              "  </thead>\n",
              "  <tbody>\n",
              "    <tr>\n",
              "      <th>1724</th>\n",
              "      <td>2020-09-20</td>\n",
              "      <td>$11,095.87</td>\n",
              "      <td>$11,095.87</td>\n",
              "      <td>$10,814.48</td>\n",
              "      <td>$10,938.27</td>\n",
              "      <td>$10,938.27</td>\n",
              "      <td>$24,699,523,788.00</td>\n",
              "    </tr>\n",
              "    <tr>\n",
              "      <th>1725</th>\n",
              "      <td>2020-09-21</td>\n",
              "      <td>$10,934.93</td>\n",
              "      <td>$10,988.30</td>\n",
              "      <td>$10,380.26</td>\n",
              "      <td>$10,462.26</td>\n",
              "      <td>$10,462.26</td>\n",
              "      <td>$28,884,999,244.00</td>\n",
              "    </tr>\n",
              "    <tr>\n",
              "      <th>1726</th>\n",
              "      <td>2020-09-22</td>\n",
              "      <td>$10,459.62</td>\n",
              "      <td>$10,568.08</td>\n",
              "      <td>$10,382.73</td>\n",
              "      <td>$10,538.46</td>\n",
              "      <td>$10,538.46</td>\n",
              "      <td>$23,621,787,804.00</td>\n",
              "    </tr>\n",
              "    <tr>\n",
              "      <th>1727</th>\n",
              "      <td>2020-09-23</td>\n",
              "      <td>$10,539.46</td>\n",
              "      <td>$10,637.85</td>\n",
              "      <td>$10,185.77</td>\n",
              "      <td>$10,225.86</td>\n",
              "      <td>$10,225.86</td>\n",
              "      <td>$22,986,733,997.00</td>\n",
              "    </tr>\n",
              "    <tr>\n",
              "      <th>1728</th>\n",
              "      <td>2020-09-24</td>\n",
              "      <td>$10,227.48</td>\n",
              "      <td>$10,765.79</td>\n",
              "      <td>$10,215.21</td>\n",
              "      <td>$10,745.55</td>\n",
              "      <td>$10,745.55</td>\n",
              "      <td>$23,017,536,742.00</td>\n",
              "    </tr>\n",
              "  </tbody>\n",
              "</table>\n",
              "</div>"
            ],
            "text/plain": [
              "            Date       Open       High  ...      Close  Adj Close             Volume\n",
              "1724  2020-09-20 $11,095.87 $11,095.87  ... $10,938.27 $10,938.27 $24,699,523,788.00\n",
              "1725  2020-09-21 $10,934.93 $10,988.30  ... $10,462.26 $10,462.26 $28,884,999,244.00\n",
              "1726  2020-09-22 $10,459.62 $10,568.08  ... $10,538.46 $10,538.46 $23,621,787,804.00\n",
              "1727  2020-09-23 $10,539.46 $10,637.85  ... $10,225.86 $10,225.86 $22,986,733,997.00\n",
              "1728  2020-09-24 $10,227.48 $10,765.79  ... $10,745.55 $10,745.55 $23,017,536,742.00\n",
              "\n",
              "[5 rows x 7 columns]"
            ]
          },
          "metadata": {},
          "execution_count": 91
        }
      ]
    },
    {
      "cell_type": "code",
      "metadata": {
        "id": "0RA3HZBvWs-o"
      },
      "source": [
        "actual_prices = df2['Close'].values\n",
        "#print(actual_prices)\n",
        "total_dataset = pd.concat((df1['Close'], df2['Close']), axis=0)\n",
        "\n",
        "model_inputs = total_dataset[len(total_dataset) - len(df2) - prediction_days: ].values\n",
        "model_inputs = model_inputs.reshape(-1,1)\n",
        "model_inputs = scaler.fit_transform(model_inputs)\n"
      ],
      "execution_count": 92,
      "outputs": []
    },
    {
      "cell_type": "code",
      "metadata": {
        "id": "jq0fqAA2ZkpO"
      },
      "source": [
        "x_test = []\n",
        "\n",
        "for x in range(prediction_days, len(model_inputs)):\n",
        "  x_test.append(model_inputs[x-prediction_days:x, 0])\n",
        "\n",
        "\n",
        "x_test = np.array(x_test)\n",
        "x_test = np.reshape(x_test, (x_test.shape[0],x_test.shape[1],1))\n",
        "prediction_prices = model.predict(x_test)\n",
        "#print(prediction_prices)\n",
        "prediction_prices = scaler.inverse_transform(prediction_prices)"
      ],
      "execution_count": 94,
      "outputs": []
    },
    {
      "cell_type": "code",
      "metadata": {
        "colab": {
          "base_uri": "https://localhost:8080/",
          "height": 312
        },
        "id": "eAL7PBYQbea3",
        "outputId": "57790357-5c5d-428c-832e-7f97a76c67dc"
      },
      "source": [
        "plt.plot(actual_prices, color='black', label='Actual prices')\n",
        "plt.plot(prediction_prices, color='green', label='Prediction prices')\n",
        "plt.title(f'{crypto_currency} price prediction' )\n",
        "plt.xlabel('Time')\n",
        "plt.ylabel('Price')\n",
        "plt.legend(loc='upper left')\n",
        "plt.show()"
      ],
      "execution_count": 95,
      "outputs": [
        {
          "output_type": "execute_result",
          "data": {
            "text/plain": [
              "<matplotlib.legend.Legend at 0x7fb6ea3bfd50>"
            ]
          },
          "metadata": {},
          "execution_count": 95
        },
        {
          "output_type": "display_data",
          "data": {
            "image/png": "[encoded data removed]",
            "text/plain": [
              "<Figure size 432x288 with 1 Axes>"
            ]
          },
          "metadata": {
            "needs_background": "light"
          }
        }
      ]
    },
    {
      "cell_type": "code",
      "metadata": {
        "id": "GHSYMV2Ac1oa"
      },
      "source": [
        ""
      ],
      "execution_count": null,
      "outputs": []
    }
  ]
}